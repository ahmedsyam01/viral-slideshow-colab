{
 "cells": [
  {
   "cell_type": "markdown",
   "metadata": {},
   "source": [
    "## 🔥 Viral Slideshow Generator – 100 % Free\n",
    "Install deps, enter keys, run all."
   ]
  },
  {
   "cell_type": "code",
   "execution_count": null,
   "metadata": {},
   "outputs": [],
   "source": [
    "#@title 1️⃣ Install packages\n",
    "!pip install -q google-generativeai yt-dlp pandas requests opencv-python scenedetect pillow tqdm openai python-dotenv"
   ]
  },
  {
   "cell_type": "code",
   "execution_count": null,
   "metadata": {},
   "outputs": [],
   "source": [
    "#@title 2️⃣ Enter API keys\n",
    "import os, getpass\n",
    "os.environ[\"GOOGLE_API_KEY\"] = getpass.getpass(\"Google AI (Gemini) key:\")\n",
    "os.environ[\"OPENAI_API_KEY\"] = getpass.getpass(\"OpenAI (DALL·E) key:\")"
   ]
  },
  {
   "cell_type": "code",
   "execution_count": null,
   "metadata": {},
   "outputs": [],
   "source": [
    "#@title 3️⃣ Clone & run\n",
    "!git clone https://github.com/<YOUR_GITHUB_USERNAME>/viral-slideshow-colab.git\n",
    "%cd viral-slideshow-colab\n",
    "!python viral_story_slideshow.py --top_niches 3 --vids_per_niche 2"
   ]
  },
  {
   "cell_type": "code",
   "execution_count": null,
   "metadata": {},
   "outputs": [],
   "source": [
    "#@title 4️⃣ Download results\n",
    "from google.colab import files\n",
    "!zip -r output.zip output/\n",
    "files.download(\"output.zip\")"
   ]
  }
 ],
 "metadata": {
  "kernelspec": {
   "display_name": "Python 3",
   "language": "python",
   "name": "python3"
  },
  "language_info": {
   "name": "python",
   "version": "3.10.12"
  }
 },
 "nbformat": 4,
 "nbformat_minor": 4
}
